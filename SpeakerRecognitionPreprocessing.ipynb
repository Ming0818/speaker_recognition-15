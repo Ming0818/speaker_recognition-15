{
 "cells": [
  {
   "cell_type": "markdown",
   "metadata": {},
   "source": [
    "## Speaker Recognition Pre-processing\n",
    "- Loads files\n",
    "- MFCC\n",
    "    - The cepstral representation of the speech spectrum provides a good representation of the local spectral properties of the signal for the given frame analysis.\n",
    "    - Where n is the index of the cepstral coefficient and Sm is the output of an M-channel filterbank. **The number of mel cepstrum coefficients, M, is typically chosen as (10-15)**. The set of coefficients calculated for each frame is called a feature vector. These acoustic vectors can be used to represent and recognize the voice characteristic of the speaker. Therefore each input utterance is transformed into a sequence of acoustic vectors . The next section describes how these acoustic vectors can be used to represent and recognize the voice characteristic of a speaker.\n",
    "- Generates .csv files"
   ]
  },
  {
   "cell_type": "code",
   "execution_count": 1,
   "metadata": {},
   "outputs": [],
   "source": [
    "import os\n",
    "import numpy as np\n",
    "import pandas as pd\n",
    "import scipy.io.wavfile as wav\n",
    "from python_speech_features import mfcc"
   ]
  },
  {
   "cell_type": "code",
   "execution_count": 2,
   "metadata": {},
   "outputs": [],
   "source": [
    "root_dir = 'speaker_recognition/'\n",
    "iden_split = root_dir + 'iden_split.txt'\n",
    "utter_dir = root_dir + 'wav/'"
   ]
  },
  {
   "cell_type": "code",
   "execution_count": 3,
   "metadata": {},
   "outputs": [],
   "source": [
    "with open(iden_split, 'r') as f:\n",
    "    idens = f.read()\n",
    "f.close()"
   ]
  },
  {
   "cell_type": "code",
   "execution_count": 4,
   "metadata": {},
   "outputs": [],
   "source": [
    "idens = [line[2:] for line in idens.split('\\n')]"
   ]
  },
  {
   "cell_type": "code",
   "execution_count": 5,
   "metadata": {},
   "outputs": [
    {
     "data": {
      "text/plain": [
       "153517"
      ]
     },
     "execution_count": 5,
     "metadata": {},
     "output_type": "execute_result"
    }
   ],
   "source": [
    "len(idens)"
   ]
  },
  {
   "cell_type": "code",
   "execution_count": 7,
   "metadata": {},
   "outputs": [],
   "source": [
    "data = []\n",
    "s_ids = []\n",
    "seen_ids = set([])\n",
    "utter_ids = []\n",
    "\n",
    "for i, iden in enumerate(idens[:]):  \n",
    "    \n",
    "    s_id = iden[:7]\n",
    "    \n",
    "    seen_ids.add(s_id)\n",
    "    if len(seen_ids) > 50: break\n",
    "        \n",
    "    rate, sig = wav.read(utter_dir + iden)\n",
    "    mfcc_feat = mfcc(sig, rate, winfunc=np.hamming, winlen=0.05, winstep=0.02, nfft=1024)\n",
    "    data.extend(mfcc_feat)\n",
    "    s_ids.extend([[s_id]]*len(mfcc_feat))\n",
    "    utter_ids.extend([[i]]*len(mfcc_feat))"
   ]
  },
  {
   "cell_type": "code",
   "execution_count": 8,
   "metadata": {},
   "outputs": [],
   "source": [
    "data = np.array(data)\n",
    "s_ids = np.array(s_ids)\n",
    "utter_ids = np.array(utter_ids)"
   ]
  },
  {
   "cell_type": "code",
   "execution_count": 9,
   "metadata": {},
   "outputs": [],
   "source": [
    "data_df = pd.DataFrame(data=data, columns=['MFCC_'+str(i) for i in range(13)])\n",
    "ids_df = pd.DataFrame(data=s_ids, columns=['s_id'])\n",
    "utter_ids_df = pd.DataFrame(data=utter_ids, columns=['utter_id'])"
   ]
  },
  {
   "cell_type": "code",
   "execution_count": 10,
   "metadata": {},
   "outputs": [],
   "source": [
    "data_concact = pd.concat([utter_ids_df, ids_df, data_df], axis=1)"
   ]
  },
  {
   "cell_type": "code",
   "execution_count": 11,
   "metadata": {},
   "outputs": [
    {
     "data": {
      "text/plain": [
       "utter_id      int64\n",
       "s_id         object\n",
       "MFCC_0      float64\n",
       "MFCC_1      float64\n",
       "MFCC_2      float64\n",
       "MFCC_3      float64\n",
       "MFCC_4      float64\n",
       "MFCC_5      float64\n",
       "MFCC_6      float64\n",
       "MFCC_7      float64\n",
       "MFCC_8      float64\n",
       "MFCC_9      float64\n",
       "MFCC_10     float64\n",
       "MFCC_11     float64\n",
       "MFCC_12     float64\n",
       "dtype: object"
      ]
     },
     "execution_count": 11,
     "metadata": {},
     "output_type": "execute_result"
    }
   ],
   "source": [
    "data_concact.dtypes"
   ]
  },
  {
   "cell_type": "code",
   "execution_count": 12,
   "metadata": {},
   "outputs": [],
   "source": [
    "data_concact.to_csv(root_dir + 'csv/utter_MFCC.csv')"
   ]
  },
  {
   "cell_type": "markdown",
   "metadata": {},
   "source": [
    "### Visualization of the data"
   ]
  },
  {
   "cell_type": "code",
   "execution_count": 14,
   "metadata": {},
   "outputs": [],
   "source": [
    "import matplotlib.pyplot as plt\n",
    "%matplotlib inline  "
   ]
  },
  {
   "cell_type": "code",
   "execution_count": null,
   "metadata": {},
   "outputs": [],
   "source": [
    "from sklearn.manifold import TSNE\n",
    "X_embedded = TSNE(n_components=2).fit_transform(data[:])"
   ]
  },
  {
   "cell_type": "code",
   "execution_count": null,
   "metadata": {},
   "outputs": [],
   "source": [
    "fig = plt.figure(figsize=(10, 10))\n",
    "plt.scatter(X_embedded[:,0], e[:, 1], color='grey', s=15, alpha=0.75, marker='^')"
   ]
  },
  {
   "cell_type": "markdown",
   "metadata": {},
   "source": [
    "## Vector Quantization\n",
    "- Some terms and how\n",
    "    - **Codebook**: each category (speaker) has its own codebook, which is a set of codewords; <br>\n",
    "    - **Codeword**: for each speaker, its feature vectors are clustered (using different methods), and a codeword is the centroid of a cluster; <br>\n",
    "    - **Pridict an unknown speaker**: compare with each codebook (unclearly written)\n",
    "        - mean distortion measure (average on all codewords) <- potentially better\n",
    "        - min distortion measure (choosing min codeword)\n",
    "        - Euclidean distance, absolute or sqaured\n",
    "- Experiments\n",
    "    - different cluster function (how the codewords distribute)\n",
    "        - K-means\n",
    "        - Bisecting k-means: nature of hierarchical clustering\n",
    "        - Gaussian Mixture Model (GMM)\n",
    "    - size of codebook [0:200]\n",
    "        - over accuracy, prf\n",
    "        - over distortion, etc"
   ]
  },
  {
   "cell_type": "code",
   "execution_count": null,
   "metadata": {},
   "outputs": [],
   "source": []
  }
 ],
 "metadata": {
  "kernelspec": {
   "display_name": "Python 3",
   "language": "python",
   "name": "python3"
  },
  "language_info": {
   "codemirror_mode": {
    "name": "ipython",
    "version": 3
   },
   "file_extension": ".py",
   "mimetype": "text/x-python",
   "name": "python",
   "nbconvert_exporter": "python",
   "pygments_lexer": "ipython3",
   "version": "3.6.5"
  }
 },
 "nbformat": 4,
 "nbformat_minor": 2
}
